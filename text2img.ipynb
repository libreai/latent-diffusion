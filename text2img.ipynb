{
 "cells": [
  {
   "cell_type": "code",
   "execution_count": 2,
   "metadata": {},
   "outputs": [],
   "source": [
    "from libreai.utils import Args, text2img"
   ]
  },
  {
   "cell_type": "code",
   "execution_count": 3,
   "metadata": {},
   "outputs": [],
   "source": [
    "# def load_model_from_config(config, ckpt, verbose=False):\n",
    "#     print(f\"Loading model from {ckpt}\")\n",
    "#     pl_sd = torch.load(ckpt, map_location=\"cpu\")\n",
    "#     sd = pl_sd[\"state_dict\"]\n",
    "#     model = instantiate_from_config(config.model)\n",
    "#     m, u = model.load_state_dict(sd, strict=False)\n",
    "    \n",
    "#     if len(m) > 0 and verbose:\n",
    "#         print(\"missing keys:\")\n",
    "#         print(m)\n",
    "#     if len(u) > 0 and verbose:\n",
    "#         print(\"unexpected keys:\")\n",
    "#         print(u)\n",
    "\n",
    "#     device = torch.device(\"cuda\") if torch.cuda.is_available() else torch.device(\"cpu\")\n",
    "    \n",
    "#     model.to(device)\n",
    "#     model.eval()\n",
    "#     return model"
   ]
  },
  {
   "cell_type": "code",
   "execution_count": 4,
   "metadata": {},
   "outputs": [],
   "source": [
    "# # argv = \"\"\"--prompt \"Erupting volcano, charcoal drawings\" --ddim_eta 0.0 --n_samples 4 --n_iter 4 --scale 5.0  --ddim_steps 50 --plms\"\"\"\n",
    "\n",
    "# class Args:\n",
    "#     prompt = \"a painting of a virus monster playing guitar\" # \"the prompt to render\"\n",
    "#     outdir = \"outputs/txt2img-samples\" # \"dir to write results to\"\n",
    "#     ddim_steps = \"number of ddim sampling steps\" # \"number of ddim sampling steps\"\n",
    "#     plms = True # \"use plms sampling\"\n",
    "#     ddim_eta = 0.0 # \"ddim eta (eta=0.0 corresponds to deterministic sampling\"\n",
    "#     n_iter = 1 # \"sample this often\"\n",
    "#     H = 256 # \"image height, in pixel space\"\n",
    "#     W = 256 # \"image width, in pixel space\"\n",
    "#     n_samples = 4 # \"how many samples to produce for the given prompt\"\n",
    "#     scale = 5 # \"unconditional guidance scale: eps = eps(x, empty) + scale * (eps(x, cond) - eps(x, empty))\"\n",
    "#     is_notebook = False # \"if we are on a notebook or not\""
   ]
  },
  {
   "cell_type": "code",
   "execution_count": 9,
   "metadata": {},
   "outputs": [],
   "source": [
    "# def text2img(opt):\n",
    "\n",
    "#     config = OmegaConf.load(\"configs/latent-diffusion/txt2img-1p4B-eval.yaml\")  # TODO: Optionally download from same location as ckpt and chnage this logic\n",
    "#     model = load_model_from_config(config, \"models/ldm/text2img-large/model.ckpt\")  # TODO: check path\n",
    "\n",
    "#     device = torch.device(\"cuda\") if torch.cuda.is_available() else torch.device(\"cpu\")\n",
    "#     model = model.to(device)\n",
    "\n",
    "#     if opt.plms:\n",
    "#         sampler = PLMSSampler(model)\n",
    "#     else:\n",
    "#         sampler = DDIMSampler(model)\n",
    "\n",
    "#     os.makedirs(opt.outdir, exist_ok=True)\n",
    "#     outpath = opt.outdir\n",
    "\n",
    "#     prompt = opt.prompt\n",
    "\n",
    "\n",
    "#     sample_path = os.path.join(outpath, \"samples\")\n",
    "#     os.makedirs(sample_path, exist_ok=True)\n",
    "#     base_count = len(os.listdir(sample_path))\n",
    "\n",
    "#     all_samples=list()\n",
    "#     with torch.no_grad():\n",
    "#         with model.ema_scope():\n",
    "#             uc = None\n",
    "#             if opt.scale != 1.0:\n",
    "#                 uc = model.get_learned_conditioning(opt.n_samples * [\"\"])\n",
    "#             for n in trange(opt.n_iter, desc=\"Sampling\"):\n",
    "#                 c = model.get_learned_conditioning(opt.n_samples * [prompt])\n",
    "#                 shape = [4, opt.H//8, opt.W//8]\n",
    "#                 samples_ddim, _ = sampler.sample(S=opt.ddim_steps,\n",
    "#                                                  conditioning=c,\n",
    "#                                                  batch_size=opt.n_samples,\n",
    "#                                                  shape=shape,\n",
    "#                                                  verbose=False,\n",
    "#                                                  unconditional_guidance_scale=opt.scale,\n",
    "#                                                  unconditional_conditioning=uc,\n",
    "#                                                  eta=opt.ddim_eta,\n",
    "#                                                  is_notebook=opt.is_notebook,)\n",
    "\n",
    "#                 x_samples_ddim = model.decode_first_stage(samples_ddim)\n",
    "#                 x_samples_ddim = torch.clamp((x_samples_ddim+1.0)/2.0, min=0.0, max=1.0)\n",
    "\n",
    "#                 for x_sample in x_samples_ddim:\n",
    "#                     x_sample = 255. * rearrange(x_sample.cpu().numpy(), 'c h w -> h w c')\n",
    "#                     Image.fromarray(x_sample.astype(np.uint8)).save(os.path.join(sample_path, f\"{base_count:04}.png\"))\n",
    "#                     base_count += 1\n",
    "#                 all_samples.append(x_samples_ddim)\n",
    "\n",
    "\n",
    "#     # additionally, save as grid\n",
    "#     grid = torch.stack(all_samples, 0)\n",
    "#     grid = rearrange(grid, 'n b c h w -> (n b) c h w')\n",
    "#     grid = make_grid(grid, nrow=opt.n_samples)\n",
    "\n",
    "#     # to image\n",
    "#     grid = 255. * rearrange(grid, 'c h w -> h w c').cpu().numpy()\n",
    "#     image = Image.fromarray(grid.astype(np.uint8))\n",
    "#     image.save(os.path.join(outpath, f'{prompt.replace(\" \", \"-\")}.png'))\n",
    "\n",
    "#     print(f\"Your samples are ready and waiting four you here: \\n{outpath} \\nEnjoy.\")\n",
    "    \n",
    "#     return image\n",
    "    "
   ]
  },
  {
   "cell_type": "code",
   "execution_count": 4,
   "metadata": {},
   "outputs": [],
   "source": [
    "opt = Args()\n",
    "# \"the prompt to render\"\n",
    "opt.prompt = \"Bright asteroid crashing into the planet Earth in a starry night, by Van Gogh\" \n",
    "opt.ddim_eta = 0.0 # \"ddim eta (eta=0.0 corresponds to deterministic sampling\"\n",
    "opt.n_samples = 4 # \"how many samples to produce for the given prompt\"\n",
    "opt.n_iter = 4 # \"sample this often\"\n",
    "opt.scale = 5.0 # \"unconditional guidance scale: eps = eps(x, empty) + scale * (eps(x, cond) - eps(x, empty))\"\n",
    "opt.ddim_steps = 50 # \"number of ddim sampling steps\"\n",
    "opt.plms = True # \"use plms sampling: much faster\"\n",
    "opt.is_notebook = True # \"if we are on a notebook or not\"\n",
    "opt.outdir = \"outputs/txt2img-samples\" # \"dir to write results to\"\n",
    "opt.H = 256 # \"image height, in pixel space\"\n",
    "opt.W = 256 # \"image width, in pixel space\"\n",
    "    "
   ]
  },
  {
   "cell_type": "code",
   "execution_count": null,
   "metadata": {},
   "outputs": [
    {
     "name": "stdout",
     "output_type": "stream",
     "text": [
      "Loading model from models/ldm/text2img-large/model.ckpt\n",
      "LatentDiffusion: Running in eps-prediction mode\n",
      "DiffusionWrapper has 872.30 M params.\n",
      "making attention of type 'vanilla' with 512 in_channels\n",
      "Working with z of shape (1, 4, 32, 32) = 4096 dimensions.\n",
      "making attention of type 'vanilla' with 512 in_channels\n"
     ]
    },
    {
     "data": {
      "application/vnd.jupyter.widget-view+json": {
       "model_id": "0da173c872824b4a9972d99bdd1c1ae6",
       "version_major": 2,
       "version_minor": 0
      },
      "text/plain": [
       "Sampling:   0%|          | 0/4 [00:00<?, ?it/s]"
      ]
     },
     "metadata": {},
     "output_type": "display_data"
    },
    {
     "name": "stdout",
     "output_type": "stream",
     "text": [
      "Data shape for PLMS sampling is (4, 4, 32, 32)\n",
      "Running PLMS Sampling with 50 timesteps\n"
     ]
    },
    {
     "data": {
      "application/vnd.jupyter.widget-view+json": {
       "model_id": "efd95bbe1d9d4f918f8e920f054fc48b",
       "version_major": 2,
       "version_minor": 0
      },
      "text/plain": [
       "PLMS Sampler:   0%|          | 0/50 [00:00<?, ?it/s]"
      ]
     },
     "metadata": {},
     "output_type": "display_data"
    },
    {
     "name": "stdout",
     "output_type": "stream",
     "text": [
      "Data shape for PLMS sampling is (4, 4, 32, 32)\n",
      "Running PLMS Sampling with 50 timesteps\n"
     ]
    },
    {
     "data": {
      "application/vnd.jupyter.widget-view+json": {
       "model_id": "c0436e6c26f24be7a370886a4f4b2222",
       "version_major": 2,
       "version_minor": 0
      },
      "text/plain": [
       "PLMS Sampler:   0%|          | 0/50 [00:00<?, ?it/s]"
      ]
     },
     "metadata": {},
     "output_type": "display_data"
    },
    {
     "name": "stdout",
     "output_type": "stream",
     "text": [
      "Data shape for PLMS sampling is (4, 4, 32, 32)\n",
      "Running PLMS Sampling with 50 timesteps\n"
     ]
    },
    {
     "data": {
      "application/vnd.jupyter.widget-view+json": {
       "model_id": "7028b1e13a254c89bbd1f2d50b008922",
       "version_major": 2,
       "version_minor": 0
      },
      "text/plain": [
       "PLMS Sampler:   0%|          | 0/50 [00:00<?, ?it/s]"
      ]
     },
     "metadata": {},
     "output_type": "display_data"
    }
   ],
   "source": [
    "text2img(opt)"
   ]
  },
  {
   "cell_type": "code",
   "execution_count": null,
   "metadata": {},
   "outputs": [],
   "source": []
  }
 ],
 "metadata": {
  "kernelspec": {
   "display_name": "Python 3 (ipykernel)",
   "language": "python",
   "name": "python3"
  },
  "language_info": {
   "codemirror_mode": {
    "name": "ipython",
    "version": 3
   },
   "file_extension": ".py",
   "mimetype": "text/x-python",
   "name": "python",
   "nbconvert_exporter": "python",
   "pygments_lexer": "ipython3",
   "version": "3.8.2"
  },
  "widgets": {
   "application/vnd.jupyter.widget-state+json": {
    "state": {},
    "version_major": 2,
    "version_minor": 0
   }
  }
 },
 "nbformat": 4,
 "nbformat_minor": 4
}
